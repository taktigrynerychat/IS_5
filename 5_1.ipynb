{
 "cells": [
  {
   "cell_type": "markdown",
   "metadata": {},
   "source": [
    "# Задание 5.1\n",
    "С помощью любой существующей <a href = \"https://developers.google.com/optimization/bin/knapsack\">библиотеки</a>\n",
    "Python, реализующей генетические алгоритмы\n",
    "получить решение задачи о рюкзаке для своего\n",
    "набора данных (определяется номером в списке)."
   ]
  },
  {
   "cell_type": "code",
   "execution_count": 108,
   "metadata": {},
   "outputs": [],
   "source": [
    "from ortools.algorithms import pywrapknapsack_solver"
   ]
  },
  {
   "cell_type": "code",
   "execution_count": 2,
   "metadata": {},
   "outputs": [],
   "source": [
    "FNAME = \"17.txt\""
   ]
  },
  {
   "cell_type": "code",
   "execution_count": 7,
   "metadata": {},
   "outputs": [
    {
     "name": "stdout",
     "output_type": "stream",
     "text": [
      "weight:  13000.0 \n",
      "volume:  12.0\n"
     ]
    }
   ],
   "source": [
    "with open(FNAME) as f:\n",
    "    content = f.readlines()\n",
    "    \n",
    "content = [x.strip() for x in content]\n",
    "capacities = [float(n) for n in content.pop(0).split()]\n",
    "print('weight: ', capacities[0], \"\\nvolume: \", capacities[1])\n",
    "capacities[1] = capacities[1] * 10 #умножаем объемы на 10, чтобы предотвратить отбрасывание дробной части в солвере\n",
    "data = []\n",
    "for x in content:\n",
    "    data.append([float(n) for n in x.split()])"
   ]
  },
  {
   "cell_type": "code",
   "execution_count": 8,
   "metadata": {},
   "outputs": [],
   "source": [
    "weights = []\n",
    "volumes = []\n",
    "prices = []\n",
    "\n",
    "for elem in data:\n",
    "    weights.append(elem[0])\n",
    "    volumes.append(elem[1] * 10) #умножаем объемы на 10, чтобы предотвратить отбрасывание дробной части в солвере\n",
    "    prices.append(elem[2])"
   ]
  },
  {
   "cell_type": "code",
   "execution_count": 112,
   "metadata": {},
   "outputs": [],
   "source": [
    "solver = pywrapknapsack_solver.KnapsackSolver(\n",
    "        pywrapknapsack_solver.KnapsackSolver.\n",
    "        KNAPSACK_MULTIDIMENSION_BRANCH_AND_BOUND_SOLVER, '')\n",
    "\n",
    "solver.Init(prices, [weights, volumes], capacities)\n",
    "computed_value = solver.Solve()"
   ]
  },
  {
   "cell_type": "code",
   "execution_count": 113,
   "metadata": {},
   "outputs": [
    {
     "name": "stdout",
     "output_type": "stream",
     "text": [
      "Total value = 4681\n",
      "Total weight: 12199.0\n",
      "Total volume: 12.0\n",
      "Packed items: [1, 2, 4, 6, 8, 9, 10, 11, 13, 15, 21, 22, 25, 27, 28, 29]\n",
      "Packed_weights: [945.0, 602.0, 1446.0, 154.0, 133.0, 856.0, 864.0, 1474.0, 174.0, 740.0, 579.0, 1278.0, 1149.0, 214.0, 893.0, 698.0]\n"
     ]
    }
   ],
   "source": [
    "packed_items = []\n",
    "packed_weights = []\n",
    "total_weight = 0\n",
    "total_volume = 0\n",
    "print('Total value =', computed_value)\n",
    "for i in range(len(values)):\n",
    "    if solver.BestSolutionContains(i):\n",
    "        packed_items.append(i)\n",
    "        packed_weights.append([weights, volumes][0][i])\n",
    "        total_weight += [weights, volumes][0][i]\n",
    "        total_volume += [weights, volumes][1][i] / 10 #делим объемы обратно на 10\n",
    "print('Total weight:', total_weight)\n",
    "print('Total volume:', total_volume)\n",
    "print('Packed items:', packed_items)\n",
    "print('Packed_weights:', packed_weights)\n"
   ]
  },
  {
   "cell_type": "code",
   "execution_count": null,
   "metadata": {},
   "outputs": [],
   "source": []
  }
 ],
 "metadata": {
  "kernelspec": {
   "display_name": "Python 3",
   "language": "python",
   "name": "python3"
  },
  "language_info": {
   "codemirror_mode": {
    "name": "ipython",
    "version": 3
   },
   "file_extension": ".py",
   "mimetype": "text/x-python",
   "name": "python",
   "nbconvert_exporter": "python",
   "pygments_lexer": "ipython3",
   "version": "3.7.4"
  }
 },
 "nbformat": 4,
 "nbformat_minor": 2
}
