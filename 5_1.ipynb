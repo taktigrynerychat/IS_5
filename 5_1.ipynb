{
 "cells": [
  {
   "cell_type": "markdown",
   "metadata": {},
   "source": [
    "# Задание 5.1\n",
    "С помощью любой существующей библиотеки (https://pyeasyga.readthedocs.io/en/latest/readme.html)\n",
    "Python, реализующей генетические алгоритмы\n",
    "получить решение задачи о рюкзаке для своего\n",
    "набора данных (определяется номером в списке)."
   ]
  },
  {
   "cell_type": "code",
   "execution_count": 18,
   "metadata": {},
   "outputs": [],
   "source": [
    "from pyeasyga import pyeasyga"
   ]
  },
  {
   "cell_type": "code",
   "execution_count": 64,
   "metadata": {},
   "outputs": [],
   "source": [
    "FNAME = \"17.txt\""
   ]
  },
  {
   "cell_type": "code",
   "execution_count": 66,
   "metadata": {},
   "outputs": [
    {
     "name": "stdout",
     "output_type": "stream",
     "text": [
      "(13000.0, 12.0)\n"
     ]
    },
    {
     "data": {
      "text/plain": [
       "[{'value': 145, 'volume': 0.8, 'weight': 853},\n",
       " {'value': 236, 'volume': 0.8, 'weight': 945},\n",
       " {'value': 374, 'volume': 1.1, 'weight': 602},\n",
       " {'value': 115, 'volume': 0.7, 'weight': 1571},\n",
       " {'value': 297, 'volume': 0.5, 'weight': 1446},\n",
       " {'value': 124, 'volume': 0.4, 'weight': 1015},\n",
       " {'value': 308, 'volume': 0.7, 'weight': 154},\n",
       " {'value': 214, 'volume': 0.4, 'weight': 1688},\n",
       " {'value': 234, 'volume': 0.5, 'weight': 133},\n",
       " {'value': 238, 'volume': 0.6, 'weight': 856},\n",
       " {'value': 244, 'volume': 0.4, 'weight': 864},\n",
       " {'value': 321, 'volume': 0.7, 'weight': 1474},\n",
       " {'value': 127, 'volume': 0.9, 'weight': 1078},\n",
       " {'value': 297, 'volume': 0.9, 'weight': 174},\n",
       " {'value': 211, 'volume': 0.6, 'weight': 1045},\n",
       " {'value': 317, 'volume': 1.0, 'weight': 740},\n",
       " {'value': 212, 'volume': 1.0, 'weight': 950},\n",
       " {'value': 161, 'volume': 0.9, 'weight': 145},\n",
       " {'value': 289, 'volume': 1.2, 'weight': 1192},\n",
       " {'value': 120, 'volume': 1.0, 'weight': 1192},\n",
       " {'value': 213, 'volume': 1.1, 'weight': 1240},\n",
       " {'value': 229, 'volume': 0.4, 'weight': 579},\n",
       " {'value': 351, 'volume': 0.5, 'weight': 1278},\n",
       " {'value': 173, 'volume': 1.1, 'weight': 1112},\n",
       " {'value': 121, 'volume': 0.6, 'weight': 579},\n",
       " {'value': 384, 'volume': 1.2, 'weight': 1149},\n",
       " {'value': 143, 'volume': 0.9, 'weight': 776},\n",
       " {'value': 221, 'volume': 0.6, 'weight': 214},\n",
       " {'value': 280, 'volume': 0.9, 'weight': 893},\n",
       " {'value': 350, 'volume': 1.2, 'weight': 698}]"
      ]
     },
     "execution_count": 66,
     "metadata": {},
     "output_type": "execute_result"
    }
   ],
   "source": [
    "with open(FNAME) as f:\n",
    "    content = f.readlines()\n",
    "    \n",
    "content = [x.strip() for x in content]\n",
    "capacities = [float(n) for n in content.pop(0).split()]\n",
    "print( capacities[0],  capacities[1])\n",
    "\n",
    "data = []\n",
    "for x in content:\n",
    "    data.append([float(n) for n in x.split()])\n",
    "knapsack_data = []\n",
    "for individ in data:\n",
    "    knapsack_data.append({'weight': int(individ[0]), 'volume': float(individ[1]), 'value': int(individ[2])})\n",
    "knapsack_data"
   ]
  },
  {
   "cell_type": "code",
   "execution_count": 67,
   "metadata": {},
   "outputs": [],
   "source": [
    "def fitness(individual, data):\n",
    "    value, weight, volume = 0, 0, 0\n",
    "    for selected, box in zip(individual, data):\n",
    "        if selected:\n",
    "            volume += box.get('volume')\n",
    "            weight += box.get('weight')\n",
    "            value += box.get('value')\n",
    "    if weight > capacities[0] or volume > capacities[1]:\n",
    "        value = 0\n",
    "    return value\n",
    "\n",
    "ga = pyeasyga.GeneticAlgorithm(knapsack_data)\n",
    "ga.population_size = 200\n",
    "\n",
    "ga.fitness_function = fitness\n",
    "ga.run()\n",
    "\n",
    "res = ga.best_individual()"
   ]
  },
  {
   "cell_type": "code",
   "execution_count": 75,
   "metadata": {},
   "outputs": [
    {
     "name": "stdout",
     "output_type": "stream",
     "text": [
      "Total value: 4466\n",
      "Total weight: 12228\n",
      "Total volume: 12.0\n",
      "\n",
      "{'volume': 0.8, 'value': 236, 'weight': 945}\n",
      "{'volume': 1.1, 'value': 374, 'weight': 602}\n",
      "{'volume': 0.5, 'value': 297, 'weight': 1446}\n",
      "{'volume': 0.4, 'value': 124, 'weight': 1015}\n",
      "{'volume': 0.7, 'value': 308, 'weight': 154}\n",
      "{'volume': 0.5, 'value': 234, 'weight': 133}\n",
      "{'volume': 0.4, 'value': 244, 'weight': 864}\n",
      "{'volume': 0.9, 'value': 297, 'weight': 174}\n",
      "{'volume': 0.6, 'value': 211, 'weight': 1045}\n",
      "{'volume': 1.0, 'value': 317, 'weight': 740}\n",
      "{'volume': 1.2, 'value': 289, 'weight': 1192}\n",
      "{'volume': 0.4, 'value': 229, 'weight': 579}\n",
      "{'volume': 0.5, 'value': 351, 'weight': 1278}\n",
      "{'volume': 1.2, 'value': 384, 'weight': 1149}\n",
      "{'volume': 0.6, 'value': 221, 'weight': 214}\n",
      "{'volume': 1.2, 'value': 350, 'weight': 698}\n"
     ]
    }
   ],
   "source": [
    "selected = []\n",
    "for index, g in enumerate(res[1]):\n",
    "    if g == 1:\n",
    "        selected.append(knapsack_data[index])\n",
    "        \n",
    "total_value = sum([item['value'] for item in selected])\n",
    "total_weight = sum([item['weight'] for item in selected])\n",
    "total_volume = sum([item['volume'] for item in selected])\n",
    "\n",
    "print(\"Total value: \" + str(total_value))\n",
    "print(\"Total weight: \" + str(total_weight))\n",
    "print(\"Total volume: \" + str(total_volume))\n",
    "print\n",
    "\n",
    "for i in selected:\n",
    "    print(i)"
   ]
  },
  {
   "cell_type": "code",
   "execution_count": null,
   "metadata": {},
   "outputs": [],
   "source": []
  }
 ],
 "metadata": {
  "kernelspec": {
   "display_name": "Python 2",
   "language": "python",
   "name": "python2"
  },
  "language_info": {
   "codemirror_mode": {
    "name": "ipython",
    "version": 2
   },
   "file_extension": ".py",
   "mimetype": "text/x-python",
   "name": "python",
   "nbconvert_exporter": "python",
   "pygments_lexer": "ipython2",
   "version": "2.7.17"
  }
 },
 "nbformat": 4,
 "nbformat_minor": 2
}
